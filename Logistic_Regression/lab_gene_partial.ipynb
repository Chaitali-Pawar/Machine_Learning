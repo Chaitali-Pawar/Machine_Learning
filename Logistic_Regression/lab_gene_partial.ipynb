{
 "cells": [
  {
   "cell_type": "markdown",
   "metadata": {},
   "source": [
    "# Lab:  Logistic Regression for Gene Expression Data\n",
    "\n",
    "In this lab, we use logistic regression to predict biological characteristics (\"phenotypes\") from gene expression data.  In addition to the concepts in [breast cancer demo](./demo04_breast_cancer.ipynb), you will learn to:\n",
    "* Handle missing data\n",
    "* Perform binary classification, and evaluating performance using various metrics\n",
    "* Perform multi-class logistic classification, and evaluating performance using accuracy and confusion matrix\n",
    "* Use L1-regularization to promote sparse weights for improved estimation (Grad students only)\n",
    "\n",
    "## Background\n",
    "\n",
    "Genes are the basic unit in the DNA and encode blueprints for proteins.  When proteins are synthesized from a gene, the gene is said to \"express\".  Micro-arrays are devices that measure the expression levels of large numbers of genes in parallel.  By finding correlations between expression levels and phenotypes, scientists can identify possible genetic markers for biological characteristics.\n",
    "\n",
    "The data in this lab comes from:\n",
    "\n",
    "https://archive.ics.uci.edu/ml/datasets/Mice+Protein+Expression\n",
    "\n",
    "In this data, mice were characterized by three properties:\n",
    "* Whether they had down's syndrome (trisomy) or not\n",
    "* Whether they were stimulated to learn or not\n",
    "* Whether they had a drug memantine or a saline control solution.\n",
    "\n",
    "With these three choices, there are 8 possible classes for each mouse.  For each mouse, the expression levels were measured across 77 genes.  We will see if the characteristics can be predicted from the gene expression levels.  This classification could reveal which genes are potentially involved in Down's syndrome and if drugs and learning have any noticeable effects.\n"
   ]
  },
  {
   "cell_type": "markdown",
   "metadata": {},
   "source": [
    "## Load the Data\n",
    "\n",
    "We begin by loading the standard modules."
   ]
  },
  {
   "cell_type": "code",
   "execution_count": 1,
   "metadata": {},
   "outputs": [],
   "source": [
    "import pandas as pd\n",
    "import numpy as np\n",
    "import matplotlib\n",
    "import matplotlib.pyplot as plt\n",
    "%matplotlib inline\n",
    "from sklearn import linear_model, preprocessing\n",
    "import warnings\n",
    "warnings.filterwarnings(\"ignore\",category=FutureWarning)"
   ]
  },
  {
   "cell_type": "markdown",
   "metadata": {},
   "source": [
    "Use the `pd.read_excel` command to read the data from \n",
    "\n",
    "https://archive.ics.uci.edu/ml/machine-learning-databases/00342/Data_Cortex_Nuclear.xls\n",
    "\n",
    "into a dataframe `df`.  Use the `index_col` option to specify that column 0 is the index.  Use the `df.head()` to print the first few rows."
   ]
  },
  {
   "cell_type": "code",
   "execution_count": 2,
   "metadata": {},
   "outputs": [
    {
     "data": {
      "text/html": [
       "<div>\n",
       "<style scoped>\n",
       "    .dataframe tbody tr th:only-of-type {\n",
       "        vertical-align: middle;\n",
       "    }\n",
       "\n",
       "    .dataframe tbody tr th {\n",
       "        vertical-align: top;\n",
       "    }\n",
       "\n",
       "    .dataframe thead th {\n",
       "        text-align: right;\n",
       "    }\n",
       "</style>\n",
       "<table border=\"1\" class=\"dataframe\">\n",
       "  <thead>\n",
       "    <tr style=\"text-align: right;\">\n",
       "      <th></th>\n",
       "      <th>DYRK1A_N</th>\n",
       "      <th>ITSN1_N</th>\n",
       "      <th>BDNF_N</th>\n",
       "      <th>NR1_N</th>\n",
       "      <th>NR2A_N</th>\n",
       "      <th>pAKT_N</th>\n",
       "      <th>pBRAF_N</th>\n",
       "      <th>pCAMKII_N</th>\n",
       "      <th>pCREB_N</th>\n",
       "      <th>pELK_N</th>\n",
       "      <th>...</th>\n",
       "      <th>pCFOS_N</th>\n",
       "      <th>SYP_N</th>\n",
       "      <th>H3AcK18_N</th>\n",
       "      <th>EGR1_N</th>\n",
       "      <th>H3MeK4_N</th>\n",
       "      <th>CaNA_N</th>\n",
       "      <th>Genotype</th>\n",
       "      <th>Treatment</th>\n",
       "      <th>Behavior</th>\n",
       "      <th>class</th>\n",
       "    </tr>\n",
       "    <tr>\n",
       "      <th>MouseID</th>\n",
       "      <th></th>\n",
       "      <th></th>\n",
       "      <th></th>\n",
       "      <th></th>\n",
       "      <th></th>\n",
       "      <th></th>\n",
       "      <th></th>\n",
       "      <th></th>\n",
       "      <th></th>\n",
       "      <th></th>\n",
       "      <th></th>\n",
       "      <th></th>\n",
       "      <th></th>\n",
       "      <th></th>\n",
       "      <th></th>\n",
       "      <th></th>\n",
       "      <th></th>\n",
       "      <th></th>\n",
       "      <th></th>\n",
       "      <th></th>\n",
       "      <th></th>\n",
       "    </tr>\n",
       "  </thead>\n",
       "  <tbody>\n",
       "    <tr>\n",
       "      <th>309_1</th>\n",
       "      <td>0.503644</td>\n",
       "      <td>0.747193</td>\n",
       "      <td>0.430175</td>\n",
       "      <td>2.816329</td>\n",
       "      <td>5.990152</td>\n",
       "      <td>0.218830</td>\n",
       "      <td>0.177565</td>\n",
       "      <td>2.373744</td>\n",
       "      <td>0.232224</td>\n",
       "      <td>1.750936</td>\n",
       "      <td>...</td>\n",
       "      <td>0.108336</td>\n",
       "      <td>0.427099</td>\n",
       "      <td>0.114783</td>\n",
       "      <td>0.131790</td>\n",
       "      <td>0.128186</td>\n",
       "      <td>1.675652</td>\n",
       "      <td>Control</td>\n",
       "      <td>Memantine</td>\n",
       "      <td>C/S</td>\n",
       "      <td>c-CS-m</td>\n",
       "    </tr>\n",
       "    <tr>\n",
       "      <th>309_2</th>\n",
       "      <td>0.514617</td>\n",
       "      <td>0.689064</td>\n",
       "      <td>0.411770</td>\n",
       "      <td>2.789514</td>\n",
       "      <td>5.685038</td>\n",
       "      <td>0.211636</td>\n",
       "      <td>0.172817</td>\n",
       "      <td>2.292150</td>\n",
       "      <td>0.226972</td>\n",
       "      <td>1.596377</td>\n",
       "      <td>...</td>\n",
       "      <td>0.104315</td>\n",
       "      <td>0.441581</td>\n",
       "      <td>0.111974</td>\n",
       "      <td>0.135103</td>\n",
       "      <td>0.131119</td>\n",
       "      <td>1.743610</td>\n",
       "      <td>Control</td>\n",
       "      <td>Memantine</td>\n",
       "      <td>C/S</td>\n",
       "      <td>c-CS-m</td>\n",
       "    </tr>\n",
       "    <tr>\n",
       "      <th>309_3</th>\n",
       "      <td>0.509183</td>\n",
       "      <td>0.730247</td>\n",
       "      <td>0.418309</td>\n",
       "      <td>2.687201</td>\n",
       "      <td>5.622059</td>\n",
       "      <td>0.209011</td>\n",
       "      <td>0.175722</td>\n",
       "      <td>2.283337</td>\n",
       "      <td>0.230247</td>\n",
       "      <td>1.561316</td>\n",
       "      <td>...</td>\n",
       "      <td>0.106219</td>\n",
       "      <td>0.435777</td>\n",
       "      <td>0.111883</td>\n",
       "      <td>0.133362</td>\n",
       "      <td>0.127431</td>\n",
       "      <td>1.926427</td>\n",
       "      <td>Control</td>\n",
       "      <td>Memantine</td>\n",
       "      <td>C/S</td>\n",
       "      <td>c-CS-m</td>\n",
       "    </tr>\n",
       "    <tr>\n",
       "      <th>309_4</th>\n",
       "      <td>0.442107</td>\n",
       "      <td>0.617076</td>\n",
       "      <td>0.358626</td>\n",
       "      <td>2.466947</td>\n",
       "      <td>4.979503</td>\n",
       "      <td>0.222886</td>\n",
       "      <td>0.176463</td>\n",
       "      <td>2.152301</td>\n",
       "      <td>0.207004</td>\n",
       "      <td>1.595086</td>\n",
       "      <td>...</td>\n",
       "      <td>0.111262</td>\n",
       "      <td>0.391691</td>\n",
       "      <td>0.130405</td>\n",
       "      <td>0.147444</td>\n",
       "      <td>0.146901</td>\n",
       "      <td>1.700563</td>\n",
       "      <td>Control</td>\n",
       "      <td>Memantine</td>\n",
       "      <td>C/S</td>\n",
       "      <td>c-CS-m</td>\n",
       "    </tr>\n",
       "    <tr>\n",
       "      <th>309_5</th>\n",
       "      <td>0.434940</td>\n",
       "      <td>0.617430</td>\n",
       "      <td>0.358802</td>\n",
       "      <td>2.365785</td>\n",
       "      <td>4.718679</td>\n",
       "      <td>0.213106</td>\n",
       "      <td>0.173627</td>\n",
       "      <td>2.134014</td>\n",
       "      <td>0.192158</td>\n",
       "      <td>1.504230</td>\n",
       "      <td>...</td>\n",
       "      <td>0.110694</td>\n",
       "      <td>0.434154</td>\n",
       "      <td>0.118481</td>\n",
       "      <td>0.140314</td>\n",
       "      <td>0.148380</td>\n",
       "      <td>1.839730</td>\n",
       "      <td>Control</td>\n",
       "      <td>Memantine</td>\n",
       "      <td>C/S</td>\n",
       "      <td>c-CS-m</td>\n",
       "    </tr>\n",
       "    <tr>\n",
       "      <th>309_6</th>\n",
       "      <td>0.447506</td>\n",
       "      <td>0.628176</td>\n",
       "      <td>0.367388</td>\n",
       "      <td>2.385939</td>\n",
       "      <td>4.807635</td>\n",
       "      <td>0.218578</td>\n",
       "      <td>0.176233</td>\n",
       "      <td>2.141282</td>\n",
       "      <td>0.195188</td>\n",
       "      <td>1.442398</td>\n",
       "      <td>...</td>\n",
       "      <td>0.109446</td>\n",
       "      <td>0.439833</td>\n",
       "      <td>0.116657</td>\n",
       "      <td>0.140766</td>\n",
       "      <td>0.142180</td>\n",
       "      <td>1.816389</td>\n",
       "      <td>Control</td>\n",
       "      <td>Memantine</td>\n",
       "      <td>C/S</td>\n",
       "      <td>c-CS-m</td>\n",
       "    </tr>\n",
       "  </tbody>\n",
       "</table>\n",
       "<p>6 rows × 81 columns</p>\n",
       "</div>"
      ],
      "text/plain": [
       "         DYRK1A_N   ITSN1_N    BDNF_N     NR1_N    NR2A_N    pAKT_N   pBRAF_N  \\\n",
       "MouseID                                                                         \n",
       "309_1    0.503644  0.747193  0.430175  2.816329  5.990152  0.218830  0.177565   \n",
       "309_2    0.514617  0.689064  0.411770  2.789514  5.685038  0.211636  0.172817   \n",
       "309_3    0.509183  0.730247  0.418309  2.687201  5.622059  0.209011  0.175722   \n",
       "309_4    0.442107  0.617076  0.358626  2.466947  4.979503  0.222886  0.176463   \n",
       "309_5    0.434940  0.617430  0.358802  2.365785  4.718679  0.213106  0.173627   \n",
       "309_6    0.447506  0.628176  0.367388  2.385939  4.807635  0.218578  0.176233   \n",
       "\n",
       "         pCAMKII_N   pCREB_N    pELK_N   ...     pCFOS_N     SYP_N  H3AcK18_N  \\\n",
       "MouseID                                  ...                                    \n",
       "309_1     2.373744  0.232224  1.750936   ...    0.108336  0.427099   0.114783   \n",
       "309_2     2.292150  0.226972  1.596377   ...    0.104315  0.441581   0.111974   \n",
       "309_3     2.283337  0.230247  1.561316   ...    0.106219  0.435777   0.111883   \n",
       "309_4     2.152301  0.207004  1.595086   ...    0.111262  0.391691   0.130405   \n",
       "309_5     2.134014  0.192158  1.504230   ...    0.110694  0.434154   0.118481   \n",
       "309_6     2.141282  0.195188  1.442398   ...    0.109446  0.439833   0.116657   \n",
       "\n",
       "           EGR1_N  H3MeK4_N    CaNA_N  Genotype  Treatment  Behavior   class  \n",
       "MouseID                                                                       \n",
       "309_1    0.131790  0.128186  1.675652   Control  Memantine       C/S  c-CS-m  \n",
       "309_2    0.135103  0.131119  1.743610   Control  Memantine       C/S  c-CS-m  \n",
       "309_3    0.133362  0.127431  1.926427   Control  Memantine       C/S  c-CS-m  \n",
       "309_4    0.147444  0.146901  1.700563   Control  Memantine       C/S  c-CS-m  \n",
       "309_5    0.140314  0.148380  1.839730   Control  Memantine       C/S  c-CS-m  \n",
       "309_6    0.140766  0.142180  1.816389   Control  Memantine       C/S  c-CS-m  \n",
       "\n",
       "[6 rows x 81 columns]"
      ]
     },
     "execution_count": 2,
     "metadata": {},
     "output_type": "execute_result"
    }
   ],
   "source": [
    "# TODO\n",
    "df = pd.read_excel('https://archive.ics.uci.edu/ml/machine-learning-databases/00342/Data_Cortex_Nuclear.xls', index_col=0)\n",
    "df.head(6)\n",
    "\n",
    "# df = ..."
   ]
  },
  {
   "cell_type": "markdown",
   "metadata": {},
   "source": [
    "This data has missing values.  The site:\n",
    "\n",
    "http://pandas.pydata.org/pandas-docs/stable/missing_data.html\n",
    "\n",
    "has an excellent summary of methods to deal with missing values.  Following the techniques there, create a new data frame `df1` where the missing values in each column are filled with the mean values from the non-missing values."
   ]
  },
  {
   "cell_type": "code",
   "execution_count": 3,
   "metadata": {},
   "outputs": [],
   "source": [
    "# TODO\n",
    "df1 = df.fillna(df.mean())\n"
   ]
  },
  {
   "cell_type": "markdown",
   "metadata": {},
   "source": [
    "## Binary Classification for Down's Syndrome\n",
    "\n",
    "We will first predict the binary class label in `df1['Genotype']` which indicates if the mouse has Down's syndrome or not.  Get the string values in `df1['Genotype'].values` and convert this to a numeric vector `y` with 0 or 1.  You may wish to use the `np.unique` command with the `return_inverse=True` option."
   ]
  },
  {
   "cell_type": "code",
   "execution_count": 4,
   "metadata": {},
   "outputs": [],
   "source": [
    "# TODO\n",
    "# y = ...\n",
    "#df1['Genotype'].values\n",
    "\n",
    "genoType = np.unique(df1['Genotype'])\n",
    "n =len(df1['Genotype'])\n",
    "y= np.zeros(n)\n",
    "for  i in range(n):\n",
    "    y[i] =1 if df1['Genotype'][i] == 'Ts65Dn' else 0\n"
   ]
  },
  {
   "cell_type": "markdown",
   "metadata": {},
   "source": [
    "As predictors, get all but the last four columns of the dataframes.  Standardize the data matrix and call the standardized matrix `Xs`.  The predictors are the expression levels of the 77 genes. "
   ]
  },
  {
   "cell_type": "code",
   "execution_count": 6,
   "metadata": {},
   "outputs": [
    {
     "name": "stdout",
     "output_type": "stream",
     "text": [
      "          DYRK1A_N   ITSN1_N    BDNF_N     NR1_N    NR2A_N    pAKT_N  \\\n",
      "MouseID                                                                \n",
      "309_1     0.503644  0.747193  0.430175  2.816329  5.990152  0.218830   \n",
      "309_2     0.514617  0.689064  0.411770  2.789514  5.685038  0.211636   \n",
      "309_3     0.509183  0.730247  0.418309  2.687201  5.622059  0.209011   \n",
      "309_4     0.442107  0.617076  0.358626  2.466947  4.979503  0.222886   \n",
      "309_5     0.434940  0.617430  0.358802  2.365785  4.718679  0.213106   \n",
      "309_6     0.447506  0.628176  0.367388  2.385939  4.807635  0.218578   \n",
      "309_7     0.428033  0.573696  0.342709  2.334224  4.473130  0.225173   \n",
      "309_8     0.416923  0.564036  0.327703  2.260135  4.268735  0.214834   \n",
      "309_9     0.386311  0.538428  0.317720  2.125725  4.063950  0.207222   \n",
      "309_10    0.380827  0.499294  0.362462  2.096266  3.598587  0.227649   \n",
      "309_11    0.366511  0.513278  0.327792  2.072572  3.661058  0.229475   \n",
      "309_12    0.364154  0.499411  0.355124  2.006871  3.466627  0.216333   \n",
      "309_13    0.364873  0.482102  0.312539  1.946201  3.349592  0.230898   \n",
      "309_14    0.381911  0.485914  0.310951  1.958907  3.349290  0.225800   \n",
      "309_15    0.374410  0.462313  0.344629  1.861162  3.287123  0.221811   \n",
      "311_1     0.743118  0.862653  0.377742  2.735757  6.067570  0.219049   \n",
      "311_2     0.711480  0.807054  0.351591  2.546888  5.595574  0.199170   \n",
      "311_3     0.704633  0.802537  0.350110  2.467733  5.548400  0.205323   \n",
      "311_4     0.677359  0.770235  0.356397  2.563223  4.975196  0.228087   \n",
      "311_5     0.591572  0.678768  0.312480  2.164182  4.313938  0.195786   \n",
      "311_6     0.618517  0.716672  0.319701  2.285938  4.571180  0.206927   \n",
      "311_7     0.702608  0.699581  0.387750  2.437587  4.449231  0.258500   \n",
      "311_8     0.598869  0.690271  0.349774  2.308371  4.229412  0.221493   \n",
      "311_9     0.561867  0.641892  0.308488  2.157728  4.020693  0.216427   \n",
      "311_10    0.550970  0.561356  0.320853  2.197868  3.558896  0.237770   \n",
      "311_11    0.538413  0.701865  0.384445  2.482137  4.109706  0.288018   \n",
      "311_12    0.521127  0.583045  0.304279  2.053415  3.381345  0.251661   \n",
      "311_13    0.488372  0.540086  0.291310  1.913403  2.873623  0.215422   \n",
      "311_14    0.514855  0.564791  0.316056  1.957016  2.978824  0.250632   \n",
      "311_15    0.485100  0.556375  0.287250  1.892166  2.847005  0.223041   \n",
      "...            ...       ...       ...       ...       ...       ...   \n",
      "J1291_1   0.277107  0.514868  0.320348  2.365797  3.371250  0.234775   \n",
      "J1291_2   0.287189  0.523557  0.319746  2.425490  3.589465  0.244044   \n",
      "J1291_3   0.289370  0.526378  0.326299  2.383936  3.457267  0.237932   \n",
      "J1291_4   0.256109  0.455459  0.303124  2.213269  3.148469  0.236932   \n",
      "J1291_5   0.268433  0.447237  0.300984  2.157154  3.037699  0.235428   \n",
      "J1291_6   0.273664  0.476930  0.329317  2.222293  3.265261  0.238307   \n",
      "J1291_7   0.237047  0.413551  0.296071  2.140444  2.790283  0.241412   \n",
      "J1291_8   0.293881  0.400956  0.279350  2.124283  3.002868  0.247036   \n",
      "J1291_9   0.237272  0.408069  0.283381  2.131220  3.005764  0.247839   \n",
      "J1291_10  0.207143  0.373810  0.276429  2.082619  2.733571  0.295476   \n",
      "J1291_11  0.249584  0.377583  0.275944  2.052244  2.655189  0.257659   \n",
      "J1291_12  0.204136  0.401779  0.274345  2.081991  2.828565  0.268574   \n",
      "J1291_13  0.204065  0.328405  0.253432  1.889916  2.403379  0.271119   \n",
      "J1291_14  0.163325  0.332454  0.255145  1.901847  2.445910  0.539050   \n",
      "J1291_15  0.175857  0.347874  0.282579  2.007407  2.587106  0.261454   \n",
      "J3295_1   0.359146  0.634173  0.344688  2.715334  4.208981  0.223658   \n",
      "J3295_2   0.357104  0.632568  0.354467  2.694429  4.292385  0.226459   \n",
      "J3295_3   0.374019  0.661735  0.362811  2.791975  4.477023  0.222932   \n",
      "J3295_4   0.356012  0.585111  0.313620  2.545074  3.794452  0.221117   \n",
      "J3295_5   0.329829  0.573062  0.334691  2.548357  3.808279  0.229041   \n",
      "J3295_6   0.355136  0.588026  0.314915  2.544507  3.981010  0.224713   \n",
      "J3295_7   0.318448  0.509701  0.290576  2.314752  3.041115  0.229135   \n",
      "J3295_8   0.333438  0.514353  0.316404  2.317035  3.451893  0.235962   \n",
      "J3295_9   0.280946  0.528821  0.299645  2.290991  3.243548  0.246021   \n",
      "J3295_10  0.230977  0.423589  0.254439  1.868897  2.447210  0.209734   \n",
      "J3295_11  0.254860  0.463591  0.254860  2.092082  2.600035  0.211736   \n",
      "J3295_12  0.272198  0.474163  0.251638  2.161390  2.801492  0.251274   \n",
      "J3295_13  0.228700  0.395179  0.234118  1.733184  2.220852  0.220665   \n",
      "J3295_14  0.221242  0.412894  0.243974  1.876347  2.384088  0.208897   \n",
      "J3295_15  0.302626  0.461059  0.256564  2.092790  2.594348  0.251001   \n",
      "\n",
      "           pBRAF_N  pCAMKII_N   pCREB_N    pELK_N    ...        SHH_N  \\\n",
      "MouseID                                              ...                \n",
      "309_1     0.177565   2.373744  0.232224  1.750936    ...     0.188852   \n",
      "309_2     0.172817   2.292150  0.226972  1.596377    ...     0.200404   \n",
      "309_3     0.175722   2.283337  0.230247  1.561316    ...     0.193685   \n",
      "309_4     0.176463   2.152301  0.207004  1.595086    ...     0.192112   \n",
      "309_5     0.173627   2.134014  0.192158  1.504230    ...     0.205604   \n",
      "309_6     0.176233   2.141282  0.195188  1.442398    ...     0.190469   \n",
      "309_7     0.184004   2.012414  0.195789  1.612036    ...     0.181610   \n",
      "309_8     0.179668   2.007985  0.189803  1.424601    ...     0.191561   \n",
      "309_9     0.167778   1.861514  0.180684  1.261891    ...     0.186378   \n",
      "309_10    0.188093   1.717861  0.188093  1.414329    ...     0.189523   \n",
      "309_11    0.193797   1.724508  0.185283  1.318670    ...     0.190770   \n",
      "309_12    0.204358   1.672556  0.190224  1.166078    ...     0.194819   \n",
      "309_13    0.188821   1.508687  0.171028  1.353360    ...     0.203315   \n",
      "309_14    0.188519   1.509002  0.179835  1.219657    ...     0.190128   \n",
      "309_15    0.185459   1.444239  0.176422  1.123023    ...     0.193840   \n",
      "311_1     0.185338   2.277492  0.194465  2.379508    ...     0.178474   \n",
      "311_2     0.165975   2.118811  0.174689  2.050484    ...     0.176080   \n",
      "311_3     0.165058   2.107281  0.171401  1.938913    ...     0.174249   \n",
      "311_4     0.186498   2.259045  0.190974  2.167848    ...     0.195656   \n",
      "311_5     0.161102   1.975689  0.161912  1.768720    ...     0.188165   \n",
      "311_6     0.171598   2.127045  0.174556  1.767316    ...     0.179575   \n",
      "311_7     0.197019   2.091057  0.182115  2.171402    ...     0.194353   \n",
      "311_8     0.187104   2.045475  0.176697  1.922172    ...     0.192329   \n",
      "311_9     0.173775   1.940878  0.168074  1.728041    ...     0.181889   \n",
      "311_10    0.194589   1.783821  0.178191  1.831375    ...     0.218912   \n",
      "311_11    0.223206   2.082833  0.202023  1.965223    ...     0.177129   \n",
      "311_12    0.189476   1.800957  0.178049  1.517672    ...     0.181869   \n",
      "311_13    0.210526   1.414933  0.162485  1.689412    ...     0.225862   \n",
      "311_14    0.175095   1.487358  0.162137  1.678571    ...     0.182283   \n",
      "311_15    0.177573   1.462366  0.169892  1.537942    ...     0.174554   \n",
      "...            ...        ...       ...       ...    ...          ...   \n",
      "J1291_1   0.187378   3.709518  0.245033  1.067524    ...     0.214850   \n",
      "J1291_2   0.189254   3.807835  0.250662  1.075172    ...     0.215971   \n",
      "J1291_3   0.187549   3.761936  0.252968  1.103271    ...     0.215005   \n",
      "J1291_4   0.185895   3.479586  0.229044  1.012218    ...     0.213586   \n",
      "J1291_5   0.178350   3.346101  0.232248  0.989856    ...     0.201984   \n",
      "J1291_6   0.183288   3.551609  0.245759  1.036785    ...     0.211848   \n",
      "J1291_7   0.183336   3.255456  0.227747  1.026571    ...     0.227923   \n",
      "J1291_8   0.185851   3.252964  0.238241  1.015870    ...     0.238723   \n",
      "J1291_9   0.172719   3.278770  0.236888  1.017291    ...     0.236581   \n",
      "J1291_10  0.192619   3.015238  0.274524  1.026190    ...     0.225843   \n",
      "J1291_11  0.191166   2.966991  0.243173  1.022560    ...     0.233503   \n",
      "J1291_12  0.201250   3.035105  0.250541  1.040635    ...     0.236171   \n",
      "J1291_13  0.195354   2.675554  0.274551  0.967265    ...     0.215777   \n",
      "J1291_14  0.176781   2.731398  0.243536  1.005013    ...     0.248517   \n",
      "J1291_15  0.182716   2.868313  0.247462  1.056790    ...     0.249400   \n",
      "J3295_1   0.174699   3.683352  0.259693  1.273494    ...     0.238156   \n",
      "J3295_2   0.172618   3.590594  0.251621  1.300407    ...     0.238560   \n",
      "J3295_3   0.177651   3.748599  0.261488  1.358888    ...     0.244296   \n",
      "J3295_4   0.176501   3.232369  0.231192  1.156483    ...     0.240133   \n",
      "J3295_5   0.181603   3.299343  0.228909  1.193035    ...     0.241087   \n",
      "J3295_6   0.178030   3.326520  0.241857  1.236318    ...     0.246714   \n",
      "J3295_7   0.175855   2.881429  0.206036  1.088389    ...     0.236307   \n",
      "J3295_8   0.201262   2.955047  0.215457  1.118612    ...     0.251357   \n",
      "J3295_9   0.195797   2.946067  0.221759  1.141400    ...     0.250431   \n",
      "J3295_10  0.150761   2.184052  0.187381  0.949746    ...     0.293754   \n",
      "J3295_11  0.171262   2.483740  0.207317  1.057971    ...     0.275547   \n",
      "J3295_12  0.182496   2.512737  0.216339  1.081150    ...     0.283207   \n",
      "J3295_13  0.161435   1.989723  0.185164  0.884342    ...     0.290843   \n",
      "J3295_14  0.173623   2.086028  0.192044  0.922595    ...     0.306701   \n",
      "J3295_15  0.191811   2.361816  0.223632  1.064085    ...     0.292330   \n",
      "\n",
      "             BAD_N    BCL2_N     pS6_N   pCFOS_N     SYP_N  H3AcK18_N  \\\n",
      "MouseID                                                                 \n",
      "309_1     0.122652  0.134762  0.106305  0.108336  0.427099   0.114783   \n",
      "309_2     0.116682  0.134762  0.106592  0.104315  0.441581   0.111974   \n",
      "309_3     0.118508  0.134762  0.108303  0.106219  0.435777   0.111883   \n",
      "309_4     0.132781  0.134762  0.103184  0.111262  0.391691   0.130405   \n",
      "309_5     0.129954  0.134762  0.104784  0.110694  0.434154   0.118481   \n",
      "309_6     0.131575  0.134762  0.106476  0.109446  0.439833   0.116657   \n",
      "309_7     0.141806  0.134762  0.097834  0.111483  0.406293   0.137229   \n",
      "309_8     0.141013  0.134762  0.099494  0.113080  0.382532   0.123376   \n",
      "309_9     0.139589  0.134762  0.105145  0.105490  0.435687   0.125173   \n",
      "309_10    0.183678  0.134762  0.093300  0.116906  0.414793   0.146133   \n",
      "309_11    0.168037  0.134762  0.094357  0.131254  0.385424   0.151816   \n",
      "309_12    0.166312  0.134762  0.098415  0.125266  0.442394   0.149988   \n",
      "309_13    0.200276  0.134762  0.097652  0.126934  0.440331   0.168370   \n",
      "309_14    0.196034  0.134762  0.094642  0.125018  0.422163   0.178737   \n",
      "309_15    0.183954  0.134762  0.099140  0.125788  0.446562   0.160602   \n",
      "311_1     0.138526  0.178604  0.138655  0.131053  0.440142   0.129606   \n",
      "311_2     0.132093  0.143588  0.111362  0.131053  0.454352   0.117010   \n",
      "311_3     0.131126  0.132887  0.112036  0.131053  0.454509   0.111089   \n",
      "311_4     0.157685  0.182391  0.111507  0.131053  0.458548   0.156690   \n",
      "311_5     0.169139  0.163775  0.100578  0.131053  0.425027   0.126896   \n",
      "311_6     0.143492  0.143073  0.110682  0.131053  0.439456   0.117060   \n",
      "311_7     0.167880  0.202294  0.104897  0.131053  0.407346   0.148026   \n",
      "311_8     0.167400  0.178342  0.112352  0.131053  0.471517   0.147208   \n",
      "311_9     0.155462  0.160438  0.103605  0.131053  0.444272   0.134454   \n",
      "311_10    0.193632  0.198961  0.104263  0.131053  0.430309   0.170812   \n",
      "311_11    0.222434  0.170033  0.097980  0.131053  0.406250   0.167849   \n",
      "311_12    0.179758  0.168637  0.110079  0.131053  0.389358   0.148226   \n",
      "311_13    0.196251  0.198299  0.075445  0.131053  0.411246   0.155773   \n",
      "311_14    0.173969  0.161657  0.091461  0.131053  0.408219   0.148705   \n",
      "311_15    0.165875  0.151302  0.093172  0.131053  0.361061   0.143278   \n",
      "...            ...       ...       ...       ...       ...        ...   \n",
      "J1291_1   0.135458  0.134762  0.114524  0.131053  0.315972   0.292285   \n",
      "J1291_2   0.130058  0.134762  0.113900  0.131053  0.305273   0.287167   \n",
      "J1291_3   0.128670  0.134762  0.115332  0.131053  0.315767   0.283509   \n",
      "J1291_4   0.150077  0.134762  0.115872  0.131053  0.332148   0.316103   \n",
      "J1291_5   0.148007  0.134762  0.114152  0.131053  0.325863   0.318043   \n",
      "J1291_6   0.150353  0.134762  0.112929  0.131053  0.316878   0.300141   \n",
      "J1291_7   0.156019  0.134762  0.117662  0.131053  0.322274   0.287124   \n",
      "J1291_8   0.165279  0.134762  0.113334  0.131053  0.328073   0.308935   \n",
      "J1291_9   0.159695  0.134762  0.106867  0.131053  0.319028   0.272244   \n",
      "J1291_10  0.181096  0.134762  0.117056  0.131053  0.337549   0.303502   \n",
      "J1291_11  0.172783  0.134762  0.111897  0.131053  0.338489   0.289617   \n",
      "J1291_12  0.181337  0.134762  0.109989  0.131053  0.337342   0.286516   \n",
      "J1291_13  0.186070  0.134762  0.112806  0.131053  0.345243   0.297069   \n",
      "J1291_14  0.209859  0.134762  0.120270  0.131053  0.398036   0.289016   \n",
      "J1291_15  0.197558  0.134762  0.112490  0.131053  0.372298   0.277622   \n",
      "J3295_1   0.149521  0.134762  0.119351  0.106507  0.398098   0.293833   \n",
      "J3295_2   0.145171  0.134762  0.119220  0.111031  0.402878   0.293172   \n",
      "J3295_3   0.144965  0.134762  0.119998  0.103273  0.414168   0.286047   \n",
      "J3295_4   0.168671  0.134762  0.125809  0.112550  0.428230   0.295791   \n",
      "J3295_5   0.163371  0.134762  0.121536  0.106726  0.397435   0.297733   \n",
      "J3295_6   0.159896  0.134762  0.124025  0.107092  0.394801   0.290680   \n",
      "J3295_7   0.172424  0.134762  0.127866  0.127265  0.405127   0.307199   \n",
      "J3295_8   0.168864  0.134762  0.117778  0.110314  0.395405   0.277821   \n",
      "J3295_9   0.167114  0.134762  0.122148  0.105369  0.408533   0.277181   \n",
      "J3295_10  0.207897  0.134762  0.117875  0.175592  0.389950   0.294329   \n",
      "J3295_11  0.190483  0.134762  0.115806  0.183324  0.374088   0.318782   \n",
      "J3295_12  0.190463  0.134762  0.113614  0.175674  0.375259   0.325639   \n",
      "J3295_13  0.216682  0.134762  0.118948  0.158296  0.422121   0.321306   \n",
      "J3295_14  0.222263  0.134762  0.125295  0.196296  0.397676   0.335936   \n",
      "J3295_15  0.227606  0.134762  0.118899  0.187556  0.420347   0.335062   \n",
      "\n",
      "            EGR1_N  H3MeK4_N    CaNA_N  \n",
      "MouseID                                 \n",
      "309_1     0.131790  0.128186  1.675652  \n",
      "309_2     0.135103  0.131119  1.743610  \n",
      "309_3     0.133362  0.127431  1.926427  \n",
      "309_4     0.147444  0.146901  1.700563  \n",
      "309_5     0.140314  0.148380  1.839730  \n",
      "309_6     0.140766  0.142180  1.816389  \n",
      "309_7     0.156682  0.157499  1.528484  \n",
      "309_8     0.155612  0.159409  1.652658  \n",
      "309_9     0.152711  0.158235  1.834599  \n",
      "309_10    0.188849  0.192334  1.516862  \n",
      "309_11    0.184601  0.193055  1.613548  \n",
      "309_12    0.191862  0.195529  1.722971  \n",
      "309_13    0.236878  0.214088  1.426934  \n",
      "309_14    0.215581  0.225285  1.500070  \n",
      "309_15    0.227937  0.224212  1.613897  \n",
      "311_1     0.165288  0.163995  1.297220  \n",
      "311_2     0.162857  0.158206  1.363189  \n",
      "311_3     0.157731  0.158543  1.404481  \n",
      "311_4     0.180153  0.195739  1.170038  \n",
      "311_5     0.172995  0.169977  1.272986  \n",
      "311_6     0.171352  0.159940  1.279936  \n",
      "311_7     0.215089  0.239907  1.178248  \n",
      "311_8     0.234179  0.197067  1.219966  \n",
      "311_9     0.189850  0.183547  1.246130  \n",
      "311_10    0.228614  0.233124  1.077480  \n",
      "311_11    0.216976  0.206741  1.144378  \n",
      "311_12    0.269003  0.243806  1.238457  \n",
      "311_13    0.222555  0.267759  0.981414  \n",
      "311_14    0.215222  0.217621  0.994404  \n",
      "311_15    0.218929  0.208286  1.030948  \n",
      "...            ...       ...       ...  \n",
      "J1291_1   0.134589  0.234915  1.344585  \n",
      "J1291_2   0.127822  0.220443  1.372286  \n",
      "J1291_3   0.126930  0.221095  1.314824  \n",
      "J1291_4   0.154785  0.234147  1.429285  \n",
      "J1291_5   0.139615  0.231451  1.415602  \n",
      "J1291_6   0.136436  0.233004  1.332487  \n",
      "J1291_7   0.162432  0.249507  1.383078  \n",
      "J1291_8   0.161178  0.266186  1.362247  \n",
      "J1291_9   0.154014  0.224613  1.336074  \n",
      "J1291_10  0.170396  0.285182  1.375973  \n",
      "J1291_11  0.169821  0.270857  1.398058  \n",
      "J1291_12  0.190156  0.246914  1.304634  \n",
      "J1291_13  0.182858  0.278202  1.308912  \n",
      "J1291_14  0.201268  0.280630  1.362446  \n",
      "J1291_15  0.188551  0.278823  1.297038  \n",
      "J3295_1   0.158488  0.241064  1.360293  \n",
      "J3295_2   0.152697  0.228565  1.375361  \n",
      "J3295_3   0.161570  0.224226  1.257854  \n",
      "J3295_4   0.180928  0.255319  1.379201  \n",
      "J3295_5   0.178258  0.246278  1.390946  \n",
      "J3295_6   0.163461  0.240104  1.335982  \n",
      "J3295_7   0.192350  0.269951  1.340743  \n",
      "J3295_8   0.170415  0.261535  1.296917  \n",
      "J3295_9   0.182646  0.237009  1.297315  \n",
      "J3295_10  0.199856  0.308112  1.420244  \n",
      "J3295_11  0.204660  0.328327  1.364823  \n",
      "J3295_12  0.200415  0.293435  1.364478  \n",
      "J3295_13  0.229193  0.355213  1.430825  \n",
      "J3295_14  0.251317  0.365353  1.404031  \n",
      "J3295_15  0.252995  0.365278  1.370999  \n",
      "\n",
      "[1080 rows x 77 columns]\n"
     ]
    }
   ],
   "source": [
    "# TODO\n",
    "X = df1.iloc[:,:-4]\n",
    "Xs = preprocessing.scale(X)\n",
    "print(X)"
   ]
  },
  {
   "cell_type": "markdown",
   "metadata": {},
   "source": [
    "Create a `LogisticRegression` object `logreg` and `fit` the training data. Use `C = 1e5`."
   ]
  },
  {
   "cell_type": "code",
   "execution_count": 6,
   "metadata": {},
   "outputs": [],
   "source": [
    "# TODO\n",
    "logreg = linear_model.LogisticRegression(C=1e5)\n",
    "c=logreg.fit(Xs, y)\n"
   ]
  },
  {
   "cell_type": "markdown",
   "metadata": {},
   "source": [
    "Measure the accuracy of the classifer.  That is, use the `logreg.predict` function to predict labels `yhat` and measure the fraction of time that the predictions match the true labels. Also, plot the ROC curve, and measure the AUC. Later, we will properly measure the accuracy and AUC on cross-validation data."
   ]
  },
  {
   "cell_type": "code",
   "execution_count": 7,
   "metadata": {},
   "outputs": [
    {
     "name": "stdout",
     "output_type": "stream",
     "text": [
      "AUC=1.000000\n"
     ]
    },
    {
     "data": {
      "image/png": "[encoded data removed]",
      "text/plain": [
       "<Figure size 432x288 with 1 Axes>"
      ]
     },
     "metadata": {
      "needs_background": "light"
     },
     "output_type": "display_data"
    }
   ],
   "source": [
    "# TODO\n",
    "from sklearn import metrics\n",
    "yprob = logreg.predict_proba(Xs)\n",
    "#print(yprob)\n",
    "fpr, tpr, thresholds = metrics.roc_curve(y,yprob[:,1])\n",
    "plt.plot(fpr,tpr)\n",
    "plt.grid()\n",
    "plt.xlabel('FPR')\n",
    "plt.ylabel('TPR')\n",
    "auc=metrics.roc_auc_score(y,yprob[:,1])\n",
    "print(\"AUC=%f\" % auc)\n",
    "\n"
   ]
  },
  {
   "cell_type": "markdown",
   "metadata": {},
   "source": [
    "## Interpreting the weight vector"
   ]
  },
  {
   "cell_type": "markdown",
   "metadata": {},
   "source": [
    "Create a stem plot of the coefficients, `W` in the logistic regression model.  You can get the coefficients from `logreg.coef_`, but you will need to reshape this to a 1D array.  "
   ]
  },
  {
   "cell_type": "code",
   "execution_count": 8,
   "metadata": {},
   "outputs": [
    {
     "data": {
      "text/plain": [
       "<StemContainer object of 3 artists>"
      ]
     },
     "execution_count": 8,
     "metadata": {},
     "output_type": "execute_result"
    },
    {
     "data": {
      "image/png": "[encoded data removed]",
      "text/plain": [
       "<Figure size 432x288 with 1 Axes>"
      ]
     },
     "metadata": {
      "needs_background": "light"
     },
     "output_type": "display_data"
    }
   ],
   "source": [
    "# TODO\n",
    "W=logreg.coef_\n",
    "#print(W)\n",
    "\n",
    "#print(.reshape(77,1))\n",
    "W= W.flatten()\n",
    "plt.stem(W)"
   ]
  },
  {
   "cell_type": "markdown",
   "metadata": {},
   "source": [
    "You should see that `W[i]` is very large for a few components `i`.  These are the genes that are likely to be most involved in Down's Syndrome.  \n",
    "\n",
    "Find the names of the genes for two components `i` where the magnitude of `W[i]` is largest.  "
   ]
  },
  {
   "cell_type": "code",
   "execution_count": 9,
   "metadata": {},
   "outputs": [
    {
     "name": "stdout",
     "output_type": "stream",
     "text": [
      "BRAF_N\n",
      "ITSN1_N\n"
     ]
    }
   ],
   "source": [
    "# TODO\n",
    "#max_W = np.argsort(W)[-2:]\n",
    "#print (W)\n",
    "#find the one with the largest magnitude\n",
    "column_indices =(np.argsort(np.absolute(W))[-2:])\n",
    "for i in column_indices:\n",
    "    print(df.columns[i])\n"
   ]
  },
  {
   "cell_type": "markdown",
   "metadata": {},
   "source": [
    "## Cross Validation\n",
    "\n",
    "The above meaured the accuracy on the training data.  It is more accurate to measure the accuracy on the test data.  Perform 10-fold cross validation and measure the average precision, recall and f1-score, as well as the AUC.  Note, that in performing the cross-validation, you will want to randomly permute the test and training sets using the `shuffle` option.  In this data set, all the samples from each class are bunched together, so shuffling is essential.  Print the mean precision, recall and f1-score and error rate across all the folds."
   ]
  },
  {
   "cell_type": "code",
   "execution_count": 10,
   "metadata": {},
   "outputs": [
    {
     "name": "stdout",
     "output_type": "stream",
     "text": [
      "Precision = 0.9477, SE=0.0141\n",
      "Recall =    0.9553, SE=0.0091\n",
      "f1 =        0.9513, SE=0.0109\n",
      "Accuracy =  0.9556, SE=0.0093\n"
     ]
    }
   ],
   "source": [
    "# TODO\n",
    "from sklearn.model_selection import KFold\n",
    "from sklearn.metrics import precision_recall_fscore_support\n",
    "nfold = 10\n",
    "kf = KFold(n_splits=nfold,shuffle=True)\n",
    "prec = []\n",
    "rec = []\n",
    "f1 = []\n",
    "acc = []\n",
    "for train,test in kf.split(Xs):        \n",
    "    # Get training and test data\n",
    "    Xtr = Xs[train,:]\n",
    "    ytr = y[train]\n",
    "    Xts = Xs[test,:]\n",
    "    yts = y[test]\n",
    "    \n",
    "    # Fit a model\n",
    "    logreg.fit(Xtr, ytr)\n",
    "    yhat = logreg.predict(Xts)\n",
    "    \n",
    "    # Measure performance\n",
    "    preci,reci,f1i,_= precision_recall_fscore_support(yts,yhat,average='binary') \n",
    "    prec.append(preci)\n",
    "    rec.append(reci)\n",
    "    f1.append(f1i)\n",
    "    acci = np.mean(yhat == yts)\n",
    "    acc.append(acci)\n",
    "\n",
    "# Take average values of the metrics\n",
    "precm = np.mean(prec)\n",
    "recm = np.mean(rec)\n",
    "f1m = np.mean(f1)\n",
    "accm= np.mean(acc)\n",
    "\n",
    "# Compute the standard errors\n",
    "prec_se = np.std(prec)/np.sqrt(nfold-1)\n",
    "rec_se = np.std(rec)/np.sqrt(nfold-1)\n",
    "f1_se = np.std(f1)/np.sqrt(nfold-1)\n",
    "acc_se = np.std(acc)/np.sqrt(nfold-1)\n",
    "\n",
    "print('Precision = {0:.4f}, SE={1:.4f}'.format(precm,prec_se))\n",
    "print('Recall =    {0:.4f}, SE={1:.4f}'.format(recm, rec_se))\n",
    "print('f1 =        {0:.4f}, SE={1:.4f}'.format(f1m, f1_se))\n",
    "print('Accuracy =  {0:.4f}, SE={1:.4f}'.format(accm, acc_se))"
   ]
  },
  {
   "cell_type": "markdown",
   "metadata": {},
   "source": [
    "## Multi-Class Classification\n",
    "\n",
    "Now use the response variable in `df1['class']`.  This has 8 possible classes.  Use the `np.unique` funtion as before to convert this to a vector `y` with values 0 to 7. "
   ]
  },
  {
   "cell_type": "code",
   "execution_count": 11,
   "metadata": {},
   "outputs": [],
   "source": [
    "# TODO\n",
    "# y = ...\n",
    "classType = np.unique(df1['class'])\n",
    "n =len(df1['class'])\n",
    "y= np.zeros(n)\n",
    "#print (classType)\n",
    "for  i in range(n):\n",
    "        j, = np.where(classType == df1['class'][i])\n",
    "        y[i]=j"
   ]
  },
  {
   "cell_type": "markdown",
   "metadata": {},
   "source": [
    "Fit a multi-class logistic model by creating a `LogisticRegression` object, `logreg` and then calling the `logreg.fit` method. In general, you could either use the 'one over rest (ovr)' option or the 'multinomial' option. In this exercise use the default 'ovr' and `C=1`. As an optional exercise, you could also compare the results obtained with these two options. "
   ]
  },
  {
   "cell_type": "code",
   "execution_count": 12,
   "metadata": {},
   "outputs": [
    {
     "data": {
      "text/plain": [
       "LogisticRegression(C=1, class_weight=None, dual=False, fit_intercept=True,\n",
       "          intercept_scaling=1, max_iter=100, multi_class='warn',\n",
       "          n_jobs=None, penalty='l2', random_state=None, solver='warn',\n",
       "          tol=0.0001, verbose=0, warm_start=False)"
      ]
     },
     "execution_count": 12,
     "metadata": {},
     "output_type": "execute_result"
    }
   ],
   "source": [
    "# TODO\n",
    "logreg = linear_model.LogisticRegression(C=1)\n",
    "logreg.fit(Xs, y)"
   ]
  },
  {
   "cell_type": "markdown",
   "metadata": {},
   "source": [
    "Measure the accuracy on the training data."
   ]
  },
  {
   "cell_type": "code",
   "execution_count": 13,
   "metadata": {},
   "outputs": [
    {
     "name": "stdout",
     "output_type": "stream",
     "text": [
      "Accuracy on training data = 0.999074\n"
     ]
    }
   ],
   "source": [
    "# TODO\n",
    "yhat = logreg.predict(Xs)\n",
    "acc = np.mean(yhat == y)\n",
    "print(\"Accuracy on training data = %f\" % acc)"
   ]
  },
  {
   "cell_type": "markdown",
   "metadata": {},
   "source": [
    "Now perform 10-fold cross validation, and measure the confusion matrix `C` on the test data in each fold. You can use the `confustion_matrix` method in the `sklearn` package.  Add the confusion matrix counts across all folds and then normalize the rows of the confusion matrix so that they sum to one.  Thus, each element `C[i,j]` will represent the fraction of samples where `yhat==j` given `ytrue==i`.  Print the confusion matrix.  You can use the command\n",
    "\n",
    "    print(np.array_str(C, precision=4, suppress_small=True))\n",
    "    \n",
    "to create a nicely formatted print.  Also print the overall mean and SE of the test accuracy across the folds."
   ]
  },
  {
   "cell_type": "code",
   "execution_count": 14,
   "metadata": {},
   "outputs": [
    {
     "name": "stdout",
     "output_type": "stream",
     "text": [
      "Error rate = 0.012963\n",
      "Standard error = 0.003704\n",
      "[[0.9643 0.0071 0.0071 0.     0.0214 0.     0.     0.    ]\n",
      " [0.0053 0.9842 0.     0.     0.0053 0.0053 0.     0.    ]\n",
      " [0.     0.     0.9938 0.0063 0.     0.     0.     0.    ]\n",
      " [0.0048 0.     0.     0.9952 0.     0.     0.     0.    ]\n",
      " [0.0077 0.0109 0.     0.     0.9814 0.     0.     0.    ]\n",
      " [0.     0.     0.     0.     0.     1.     0.     0.    ]\n",
      " [0.     0.     0.0071 0.     0.     0.     0.9929 0.    ]\n",
      " [0.     0.     0.     0.     0.     0.     0.     1.    ]]\n"
     ]
    }
   ],
   "source": [
    "from sklearn.metrics import confusion_matrix\n",
    "from sklearn.model_selection import KFold\n",
    "from sklearn.preprocessing import normalize\n",
    "# TODO\n",
    "nfold = 10\n",
    "kf = KFold(n_splits=nfold,shuffle=True)\n",
    "Confusion_Matrix =np.zeros((10, 8, 8))\n",
    "final_Confusion_Matrix = np.zeros((10,8))\n",
    "err_rate = np.zeros(nfold)\n",
    "i=0;\n",
    "for train,test in kf.split(Xs):        \n",
    "    # Get training and test data\n",
    "    #print(train)\n",
    "    Xtr = Xs[train,:]\n",
    "    ytr = y[train]\n",
    "    Xts = Xs[test,:]\n",
    "    yts = y[test]\n",
    "    \n",
    "    # Fit a model\n",
    "    logreg.fit(Xtr, ytr)\n",
    "    yhat = logreg.predict(Xts)\n",
    "    #print(normalize(confusion_matrix(yts,yhat), axis=0))\n",
    "    #Confusion_Matrix[i]=(normalize(confusion_matrix(yts,yhat), axis=0))\n",
    "    Confusion_Matrix[i] = confusion_matrix(yts,yhat)\n",
    "    Confusion_Matrix[i] = Confusion_Matrix[i].astype('float')/Confusion_Matrix[i].sum(axis=1)[:,np.newaxis]\n",
    "    #Confusion_Matrix[i] = confusion_matrix\n",
    "    err_rate[i] = np.mean(yhat != yts)\n",
    "    # Measure performance\n",
    "    i =i+1\n",
    "final_Confusion_Matrix = np.mean(Confusion_Matrix,axis=0)\n",
    "#print(final_Confusion_Matrix)\n",
    "err_mean = np.mean(err_rate)\n",
    "print(\"Error rate = %f\" % err_mean)\n",
    "err_se = np.std(err_rate)/np.sqrt(nfold-1)\n",
    "print(\"Standard error = %f\" % err_se)\n",
    "print(np.array_str(final_Confusion_Matrix, precision=4, suppress_small=True))\n"
   ]
  },
  {
   "cell_type": "markdown",
   "metadata": {},
   "source": [
    "Re-run the logistic regression on the entire training data and get the weight coefficients.  This should be a 8 x 77 matrix.  Create a stem plot of the first row of this matrix to see the coefficients on each of the genes for the first class."
   ]
  },
  {
   "cell_type": "code",
   "execution_count": 15,
   "metadata": {},
   "outputs": [
    {
     "name": "stdout",
     "output_type": "stream",
     "text": [
      "(8, 77)\n"
     ]
    },
    {
     "data": {
      "text/plain": [
       "<StemContainer object of 3 artists>"
      ]
     },
     "execution_count": 15,
     "metadata": {},
     "output_type": "execute_result"
    },
    {
     "data": {
      "image/png": "[encoded data removed]",
      "text/plain": [
       "<Figure size 432x288 with 1 Axes>"
      ]
     },
     "metadata": {
      "needs_background": "light"
     },
     "output_type": "display_data"
    }
   ],
   "source": [
    "# TODO\n",
    "W=logreg.coef_\n",
    "print(W.shape)\n",
    "plt.stem(W[0,:])\n"
   ]
  },
  {
   "cell_type": "markdown",
   "metadata": {
    "collapsed": true
   },
   "source": [
    "## L1-Regularization\n",
    "\n",
    "Graduate students only complete this section.\n",
    "\n",
    "In most genetic problems, only a limited number of the tested genes are likely influence any particular attribute.  Hence, we would expect that the weight coefficients in the logistic regression model should be sparse.  That is, they should be zero on any gene that plays no role in the particular attribute of interest.  Genetic analysis commonly imposes sparsity by adding an l1-penalty term.  Read the `sklearn` [documentation](http://scikit-learn.org/stable/modules/generated/sklearn.linear_model.LogisticRegression.html) on the `LogisticRegression` class to see how to set the l1-penalty and the inverse regularization strength, `C`.\n",
    "\n",
    "Using the model selection strategies from the [prostate cancer analysis demo](../unit03_model_sel/demo03_2_prostate.ipynb), use K-fold cross validation to select an appropriate inverse regularization strength.  \n",
    "* Use 10-fold cross validation \n",
    "* You should select around 20 values of `C`.  It is up to you to find a good range.\n",
    "* For each C and each fold, you should compute the classification error rate \n",
    "* For each C and each fold, you should also determine the nubmer of non-zero coefficients for the first class. For this purpse, you can assume coefficient with magnitude <0.01 as zero."
   ]
  },
  {
   "cell_type": "code",
   "execution_count": 16,
   "metadata": {},
   "outputs": [
    {
     "name": "stdout",
     "output_type": "stream",
     "text": [
      "Fold 0\n",
      "Fold 1\n",
      "Fold 2\n",
      "Fold 3\n",
      "Fold 4\n",
      "Fold 5\n",
      "Fold 6\n",
      "Fold 7\n",
      "Fold 8\n",
      "Fold 9\n"
     ]
    }
   ],
   "source": [
    "# TODO\n",
    "npen = 20\n",
    "C_test = np.logspace(-2,2,npen)\n",
    "\n",
    "# Create the cross-validation object and error rate matrix\n",
    "nfold = 10\n",
    "kf = KFold(n_splits=nfold,shuffle=True)\n",
    "err_rate = np.zeros((npen,nfold))\n",
    "num_nonzerocoef = np.zeros((npen,nfold))\n",
    "# Create the logistic regression object\n",
    "logreg = linear_model.LogisticRegression(penalty='l1',warm_start=True)\n",
    "\n",
    "# Loop over the folds in the cross-validation\n",
    "for ifold, Ind in enumerate(kf.split(Xs)):        \n",
    "            \n",
    "    # Get training and test data\n",
    "    Itr, Its = Ind\n",
    "    Xtr = Xs[Itr,:]\n",
    "    ytr = y[Itr]\n",
    "    Xts = Xs[Its,:]\n",
    "    yts = y[Its]\n",
    "    \n",
    "    # Loop over penalty levels\n",
    "    for ipen, c in enumerate(C_test):\n",
    "        \n",
    "        # Set the penalty level        \n",
    "        logreg.C= c\n",
    "    \n",
    "        # Fit a model on the training data\n",
    "        logreg.fit(Xtr, ytr)\n",
    "    \n",
    "        # Predict the labels on the test set.\n",
    "        yhat = logreg.predict(Xts)\n",
    "        \n",
    "        # Measure the accuracy\n",
    "        err_rate[ipen,ifold] = np.mean(yhat != yts)\n",
    "        num_nonzerocoef[ipen,ifold]=np.sum(abs(logreg.coef_)>0.01)\n",
    "    print(\"Fold %d\" % ifold)\n",
    "    \n"
   ]
  },
  {
   "cell_type": "markdown",
   "metadata": {},
   "source": [
    "Now compute the mean and standard error on the error rate for each `C` and plot the results (Use `errorbar()` method).  Also determine and print the minimum test error rate and corresponding C value. "
   ]
  },
  {
   "cell_type": "code",
   "execution_count": 17,
   "metadata": {},
   "outputs": [
    {
     "name": "stdout",
     "output_type": "stream",
     "text": [
      "The minimum test error rate =   9.2593e-03, SE=  2.7606e-03\n",
      "The C value corresponding to minimum error =   7.8476e-01\n"
     ]
    },
    {
     "data": {
      "image/png": "[encoded data removed]",
      "text/plain": [
       "<Figure size 432x288 with 1 Axes>"
      ]
     },
     "metadata": {
      "needs_background": "light"
     },
     "output_type": "display_data"
    }
   ],
   "source": [
    "# TODO\n",
    "err_mean = np.mean(err_rate, axis=1)\n",
    "num_nonzerocoef_mean = np.mean(num_nonzerocoef, axis=1)\n",
    "err_se = np.std(err_rate,axis=1)/np.sqrt(nfold-1)\n",
    "plt.errorbar(np.log10(C_test), err_mean, marker='o',yerr=err_se)\n",
    "#plt.xlim([-3,3])\n",
    "plt.grid()\n",
    "plt.xlabel('log10(C)')\n",
    "plt.ylabel('Error rate')\n",
    "imin = np.argmin(err_mean)\n",
    "\n",
    "print(\"The minimum test error rate = %12.4e, SE=%12.4e\" % (err_mean[imin], err_se[imin]))\n",
    "print(\"The C value corresponding to minimum error = %12.4e\" % (C_test[imin]))"
   ]
  },
  {
   "cell_type": "markdown",
   "metadata": {},
   "source": [
    "We see that the minimum error rate is significantly below the classifier that did not use the l1-penalty.  Use the one-standard error rule to determine the optimal `C` and the corresponding test error rate. Note that because `C` is inversely proportional to the regularization strength, you want to select a `C` as *small* as possible while meeting the error target!"
   ]
  },
  {
   "cell_type": "code",
   "execution_count": 18,
   "metadata": {},
   "outputs": [
    {
     "name": "stdout",
     "output_type": "stream",
     "text": [
      "Optimal C=  7.8476e-01\n",
      "The test error rate =   9.2593e-03, SE=  2.7606e-03\n",
      "Accuracy =  0.9907, SE=0.0028\n"
     ]
    }
   ],
   "source": [
    "# TODO\n",
    "# C_opt = \n",
    "err_tgt = err_mean[imin] + err_se[imin]\n",
    "iopt = np.where(err_mean < err_tgt)[0][0]\n",
    "C_opt = C_test[iopt]\n",
    "\n",
    "print(\"Optimal C=%12.4e\" % C_opt)\n",
    "print(\"The test error rate = %12.4e, SE=%12.4e\" % (err_mean[iopt], err_se[iopt]))\n",
    "\n",
    "print('Accuracy =  {0:.4f}, SE={1:.4f}'.format(1-err_mean[iopt], err_se[iopt]))"
   ]
  },
  {
   "cell_type": "markdown",
   "metadata": {},
   "source": [
    "**Question:** How does the test error rate compare with the classifier that did not use the l1-penalty? Explain why.\n",
    "better "
   ]
  },
  {
   "cell_type": "markdown",
   "metadata": {},
   "source": [
    "**Type Answer Here:**\n",
    "Better because in l1 penalty we do feature selection which helps us to select certain features in advance."
   ]
  },
  {
   "cell_type": "markdown",
   "metadata": {},
   "source": [
    "Now plot the nubmer of non-zero coefficients for the first class for different C values. Also determine and print the number of non-zero coefficients corresponding to C_opt."
   ]
  },
  {
   "cell_type": "code",
   "execution_count": 19,
   "metadata": {},
   "outputs": [
    {
     "name": "stdout",
     "output_type": "stream",
     "text": [
      "The number of non-zero coefficients for the optimal C = 269.000000\n"
     ]
    },
    {
     "data": {
      "image/png": "[encoded data removed]",
      "text/plain": [
       "<Figure size 432x288 with 1 Axes>"
      ]
     },
     "metadata": {
      "needs_background": "light"
     },
     "output_type": "display_data"
    }
   ],
   "source": [
    "# TODO\n",
    "num_nonzerocoef_mean = np.mean(num_nonzerocoef, axis=1)\n",
    "plt.plot(np.log10(C_test),num_nonzerocoef_mean)\n",
    "\n",
    "plt.grid()\n",
    "plt.xlabel('log10(C)')\n",
    "plt.ylabel('Num of nonzero coeff.')\n",
    "\n",
    "print(\"The number of non-zero coefficients for the optimal C = %f\" % num_nonzerocoef_mean[iopt])"
   ]
  },
  {
   "cell_type": "code",
   "execution_count": null,
   "metadata": {},
   "outputs": [],
   "source": []
  },
  {
   "cell_type": "markdown",
   "metadata": {},
   "source": [
    "For the optimal `C`, fit the model on the entire training data with l1 regularization. Find the resulting weight matrix, `W_l1`.  Plot the first row of this weight matrix and compare it to the first row of the weight matrix without the regularization.  You should see that, with l1-regularization, the weight matrix is much more sparse and hence the roles of particular genes are more clearly visible. Please also compare the accuracy for the training data using optimal `C` with the previous results not using LASSO regularization. Do you expect the accuracy to improve?"
   ]
  },
  {
   "cell_type": "code",
   "execution_count": 20,
   "metadata": {},
   "outputs": [
    {
     "name": "stdout",
     "output_type": "stream",
     "text": [
      "Accuracy on the training data is 0.998148\n"
     ]
    },
    {
     "data": {
      "text/plain": [
       "Text(0.5, 1.0, 'l1-regularization')"
      ]
     },
     "execution_count": 20,
     "metadata": {},
     "output_type": "execute_result"
    },
    {
     "data": {
      "image/png": "[encoded data removed]",
      "text/plain": [
       "<Figure size 504x504 with 2 Axes>"
      ]
     },
     "metadata": {
      "needs_background": "light"
     },
     "output_type": "display_data"
    }
   ],
   "source": [
    "# TODO\n",
    "logreg = linear_model.LogisticRegression(C=C_opt,penalty='l1')\n",
    "logreg.C= C_opt\n",
    "logreg.fit(Xs,y)\n",
    "yhat = logreg.predict(Xs)\n",
    "acc = np.mean(yhat == y)\n",
    "print('Accuracy on the training data is {0:f}'.format(acc))\n",
    "W_l1 = logreg.coef_\n",
    "\n",
    "plt.figure(figsize=(7,7))\n",
    "plt.subplot(2,1,1)\n",
    "#W= W.flatten()\n",
    "#plt.stem(W[0:,])\n",
    "plt.stem(W[0,:])\n",
    "plt.title('No regularization')\n",
    "plt.subplot(2,1,2)\n",
    "plt.stem(W_l1[0,:])\n",
    "plt.title('l1-regularization')"
   ]
  },
  {
   "cell_type": "code",
   "execution_count": 81,
   "metadata": {},
   "outputs": [
    {
     "ename": "SyntaxError",
     "evalue": "invalid syntax (<ipython-input-81-ba023fe921d5>, line 1)",
     "output_type": "error",
     "traceback": [
      "\u001b[0;36m  File \u001b[0;32m\"<ipython-input-81-ba023fe921d5>\"\u001b[0;36m, line \u001b[0;32m1\u001b[0m\n\u001b[0;31m    Yes the accuracy for training data using optimal C is better than the one not using l1 regulizer , the accuracy was expected to improve.\u001b[0m\n\u001b[0m          ^\u001b[0m\n\u001b[0;31mSyntaxError\u001b[0m\u001b[0;31m:\u001b[0m invalid syntax\n"
     ]
    }
   ],
   "source": [
    "Yes the accuracy for training data using optimal C is lower than the one not using l1 regulizer , the accuracy was expected to improve."
   ]
  },
  {
   "cell_type": "code",
   "execution_count": null,
   "metadata": {},
   "outputs": [],
   "source": []
  }
 ],
 "metadata": {
  "anaconda-cloud": {},
  "kernelspec": {
   "display_name": "Python 3",
   "language": "python",
   "name": "python3"
  },
  "language_info": {
   "codemirror_mode": {
    "name": "ipython",
    "version": 3
   },
   "file_extension": ".py",
   "mimetype": "text/x-python",
   "name": "python",
   "nbconvert_exporter": "python",
   "pygments_lexer": "ipython3",
   "version": "3.7.1"
  }
 },
 "nbformat": 4,
 "nbformat_minor": 1
}
