{
 "cells": [
  {
   "cell_type": "markdown",
   "metadata": {},
   "source": [
    "# Lab:  Source Localization for EEG\n",
    "\n",
    "EEG or [Electroencephalography](https://en.wikipedia.org/wiki/Electroencephalography) is a powerful tool for neuroscientists in understanding brain activity.  In EEG, a patient wears a headset with electrodes that measures voltages at a number of points on the scalp.  These voltages arise from ionic currents within the brain.  A common *inverse problem* is to estimate the which parts of the brain caused the measured response.  Source localization is useful in understanding which parts of the brain are involved in certain tasks.  A key challenge in this inverse problem is that the number of unknowns (possible locations in the brain) is much larger than the number of measurements.  In this lab, we will use LASSO regression on a real EEG dataset to overcome this problem and determine the brain region that is active under an auditory stimulus.\n",
    "\n",
    "In addition to the concepts in the [prostate LASSO demo](./demo_prostate.ipynb) you will learn to:\n",
    "* Represent responses of multi-channel time-series data, such as EEG, using linear models\n",
    "* Perform LASSO and Ridge regression\n",
    "* Select the regularization level via cross-validation\n",
    "* Visually compare the sparsity between the solutions\n",
    "\n",
    "We first download standard packages."
   ]
  },
  {
   "cell_type": "code",
   "execution_count": 1,
   "metadata": {},
   "outputs": [],
   "source": [
    "import numpy as np\n",
    "import matplotlib.pyplot as plt\n",
    "import pickle\n",
    "\n",
    "from sklearn.linear_model import Lasso, Ridge, ElasticNet\n",
    "from sklearn.metrics import r2_score\n",
    "from sklearn.model_selection import train_test_split"
   ]
  },
  {
   "cell_type": "markdown",
   "metadata": {},
   "source": [
    "## Load the Data\n",
    "\n",
    "The data in this lab is taken from one of the sample datasets in the [MNE website](https://martinos.org/mne/stable/index.html). The sample data is a recording from one subject who experienced some auditory stimulus on the left ear.    \n",
    "\n",
    "The raw data is very large (`1.5G`) and also requires that you install the `mne` python package. To make this lab easier, I have extracted and processed a small section of the data. The following command will download a `pickle` file `eeg_dat.p` to your local machine.  If you do want to create the data yourself, the program to create the data is in this directory in the github repository."
   ]
  },
  {
   "cell_type": "code",
   "execution_count": 2,
   "metadata": {},
   "outputs": [
    {
     "name": "stdout",
     "output_type": "stream",
     "text": [
      "File eeg_dat.p is already downloaded\n"
     ]
    }
   ],
   "source": [
    "fn_src ='https://drive.google.com/uc?export=download&id=1RzQpKONOcXSMxH2ZzOI4iVMiTgD6ttSl'\n",
    "fn_dst ='eeg_dat.p'\n",
    "\n",
    "import os\n",
    "from six.moves import urllib\n",
    "\n",
    "if os.path.isfile(fn_dst):\n",
    "    print('File %s is already downloaded' % fn_dst)\n",
    "else:        \n",
    "    print('Fetching file %s [53MB].  This may take a minute..' % fn_dst)\n",
    "    urllib.request.urlretrieve(fn_src, fn_dst)\n",
    "    print('File %s downloaded' % fn_dst)"
   ]
  },
  {
   "cell_type": "markdown",
   "metadata": {},
   "source": [
    "Now run the following command which will get the data from the `pickle` file."
   ]
  },
  {
   "cell_type": "code",
   "execution_count": 3,
   "metadata": {},
   "outputs": [],
   "source": [
    "import pickle\n",
    "fn = 'eeg_dat.p'\n",
    "with open(fn, 'rb') as fp:\n",
    "    [X,Y] = pickle.load(fp)"
   ]
  },
  {
   "cell_type": "markdown",
   "metadata": {},
   "source": [
    "To understand the data, there are three key variables:\n",
    "* `nt`    = number of time steps that we measure data\n",
    "* `nchan` = number of channels (i.e. electrodes) measured in each time step\n",
    "* `ncur`  = number of currents in the brain that we want to estimate.  \n",
    "\n",
    "Each current comes from one brain region (called a *voxel*) in either the `x`, `y` or `z` direction.  So,\n",
    "\n",
    "    nvoxels = ncur / 3\n",
    "    \n",
    "The components of the `X` and `Y` matrices are:\n",
    "*  `Y[i,k]` = electric field measurement on channel `i` at time `k`\n",
    "*  `X[i,j]` = sensitivity of channel `i` to current `j`.\n",
    "\n",
    "Using `X.shape` and `Y.shape` compute and print `nt`, `nchan`, `ncur` and `nvoxels`."
   ]
  },
  {
   "cell_type": "code",
   "execution_count": 4,
   "metadata": {},
   "outputs": [
    {
     "name": "stdout",
     "output_type": "stream",
     "text": [
      "85 22494 305 7498.0\n"
     ]
    }
   ],
   "source": [
    "# TODO\n",
    "\n",
    "nt = Y.shape[1]\n",
    "ncur = X.shape[1]\n",
    "nchan =X.shape[0]\n",
    "nvoxels =ncur / 3\n",
    "print(nt ,ncur,nchan,nvoxels)\n"
   ]
  },
  {
   "cell_type": "markdown",
   "metadata": {},
   "source": [
    "## Ridge Regression\n",
    "\n",
    "Our goal is to estimate the currents in the brain from the measurements `Y`.  One simple linear model is:\n",
    "\n",
    "    Y[i,k]  = \\sum_j X[i,j]*W[j,k]+ b[k]\n",
    "\n",
    "where `W[j,k]` is the value of current `j` at time `k` and `b[k]` is a bias.  We can solve for the current matrix `W` via linear regression.  \n",
    "\n",
    "Howeever, there is a problem:\n",
    "*  There are `nt x ncur` unknowns in `W`\n",
    "*  There are only `nt x nchan` measurements in `Y`.\n",
    "\n",
    "In this problem, we have:\n",
    "\n",
    "    number of measurements  << number of unknowns\n",
    "    \n",
    "We need to use regularization in these circumstances.  We first try Ridge regression.\n",
    "\n",
    "First split the data into training and test.  Use the `train_test_split` function with `test_size=0.33`."
   ]
  },
  {
   "cell_type": "code",
   "execution_count": 5,
   "metadata": {},
   "outputs": [],
   "source": [
    "# TODO\n",
    "Xtr,Xts,Ytr,Yts = train_test_split(X,Y,test_size=0.33) "
   ]
  },
  {
   "cell_type": "markdown",
   "metadata": {},
   "source": [
    "Use the `Ridge` regression object in `sklearn` to fit the model on the training data.  Use a regularization, `alpha=1`."
   ]
  },
  {
   "cell_type": "code",
   "execution_count": 6,
   "metadata": {},
   "outputs": [
    {
     "data": {
      "text/plain": [
       "Ridge(alpha=1, copy_X=True, fit_intercept=True, max_iter=None,\n",
       "   normalize=False, random_state=None, solver='auto', tol=0.001)"
      ]
     },
     "execution_count": 6,
     "metadata": {},
     "output_type": "execute_result"
    }
   ],
   "source": [
    "# TODO\n",
    "# regr = Ridge(...)\n",
    "regr = Ridge(alpha=1)\n",
    "regr.fit(Xtr,Ytr)\n"
   ]
  },
  {
   "cell_type": "markdown",
   "metadata": {},
   "source": [
    "Preict the values `Y` on both the training and test data.  Use the `r2_score` method to measure the `R^2` value on both the training and test.  You will see that `R^2` value is large for the training data, it is very low for the test data.  This suggest that even with regularization, the model is over-fitting the data."
   ]
  },
  {
   "cell_type": "code",
   "execution_count": 7,
   "metadata": {},
   "outputs": [
    {
     "name": "stdout",
     "output_type": "stream",
     "text": [
      "0.6010401894012986 0.07900206299096402\n"
     ]
    }
   ],
   "source": [
    "# TODO\n",
    "Y_train_pred = regr.predict(Xtr)\n",
    "Y_test_pred = regr.predict(Xts)\n",
    "rsq_tr = r2_score(Ytr,Y_train_pred)\n",
    "rsq_ts = r2_score(Yts,Y_test_pred)\n",
    "print(rsq_tr,rsq_ts)\n",
    "# rsq_ts = ..."
   ]
  },
  {
   "cell_type": "markdown",
   "metadata": {},
   "source": [
    "Next, try to see if we can get a better `R^2` score using different values of `alpha`.  Use cross-validation to measure the test `R^2` for 20 `alpha` values logarithmically spaced from `10^{-2}` to `10^{2}` (use `np.logspace()`).  You can use regular cross-validation.  You do not need to do `K`-fold."
   ]
  },
  {
   "cell_type": "code",
   "execution_count": 8,
   "metadata": {},
   "outputs": [
    {
     "name": "stdout",
     "output_type": "stream",
     "text": [
      "[-0.27760907 -0.1758359  -0.08870729 -0.01681654  0.03948478  0.08010715\n",
      "  0.10489849  0.11382534  0.10799994  0.09057558  0.06642207  0.04082503\n",
      "  0.01815139  0.00094851 -0.01032314 -0.01677021 -0.02006758 -0.02164013\n",
      " -0.0223786  -0.0227375 ]\n",
      "7\n"
     ]
    }
   ],
   "source": [
    "# TODO\n",
    "\n",
    "#nalpha=20\n",
    "#alphas=[np.logspace(-2,1,nalpha)\n",
    "\n",
    "result_r2=np.zeros(20)\n",
    "naplha=20\n",
    "alphas=np.logspace(-2,2,naplha)\n",
    "i=0\n",
    "for a in (alphas):\n",
    "    regr = Ridge(a)\n",
    "    regr.fit(Xtr,Ytr)\n",
    "    Y_test_pred=regr.predict(Xts)\n",
    "    #print(r2_score(Yts,Y_test_pred))\n",
    "    result_r2[i] = r2_score(Yts,Y_test_pred)\n",
    "    i=i+1\n",
    "alpha_opt= result_r2\n",
    "print(result_r2)\n",
    "alpha_opt = np.argmax(result_r2)\n",
    "print(alpha_opt)\n",
    "\n"
   ]
  },
  {
   "cell_type": "markdown",
   "metadata": {},
   "source": [
    "Plot the test `R^2` vs. `alpha`.  And print the maximum test `R^2`.  You should see that the maximum test `R^2` is still not very high."
   ]
  },
  {
   "cell_type": "code",
   "execution_count": 9,
   "metadata": {},
   "outputs": [
    {
     "name": "stdout",
     "output_type": "stream",
     "text": [
      "0.11382533880944083\n"
     ]
    },
    {
     "data": {
      "image/png": "[encoded data removed]",
      "text/plain": [
       "<Figure size 432x288 with 1 Axes>"
      ]
     },
     "metadata": {
      "needs_background": "light"
     },
     "output_type": "display_data"
    }
   ],
   "source": [
    "# TODO\n",
    "print(result_r2[alpha_opt])\n",
    "plt.plot(np.log10(alphas),result_r2)\n",
    "plt.xlabel('log10(alpha)')\n",
    "plt.ylabel('Test MSE')\n",
    "plt.grid()\n",
    "plt.show()"
   ]
  },
  {
   "cell_type": "markdown",
   "metadata": {},
   "source": [
    "Now, let's take a look at the solution. \n",
    "\n",
    "* Find the optimal regularization `alpha` from the cross-validation\n",
    "* Re-fit the model at the optimal `alpha`\n",
    "* Get the current matrix `W` from the coefficients in the linear model.  These are stored in `regr.coef_`.  You may need a transpose\n",
    "* For each current `j` compute `Wrms[j] =  sqrt( sum_k W[j,k]**2 )` which is root mean squared current.\n",
    "\n",
    "You will see that the vector `Wrms` is not sparse.  This means that the solution that is found with Ridge regression finds currents in all locations."
   ]
  },
  {
   "cell_type": "code",
   "execution_count": 21,
   "metadata": {},
   "outputs": [
    {
     "name": "stdout",
     "output_type": "stream",
     "text": [
      "[0.54240336 0.         0.         ... 0.         0.         0.        ]\n"
     ]
    }
   ],
   "source": [
    "\n",
    "# TODO\n",
    "\n",
    "regr.aplha =alpha_opt\n",
    "regr.fit(X,Y)\n",
    "W = np.transpose(regr.coef_)\n",
    "#print(W)\n",
    "\n",
    "Wrms =np.sqrt(np.sum(W,axis=1)**2)\n",
    "print(Wrms)\n",
    "    \n",
    "#plt.stem(w)   "
   ]
  },
  {
   "cell_type": "markdown",
   "metadata": {},
   "source": [
    "## LASSO Regression\n",
    "\n",
    "We can improve the estimate by imposing sparsity.  Biologically, we know that only a limited number of brain regions should be involved in the reponse to a particular stimuli.  As a result, we would expect that the current matrix `W[j,k]` to be zero for most values `j,k`.  We can impose this constraint using LASSO regularization.\n",
    "\n",
    "Re-fit the training data using the `Lasso` model with `alpha=1e-3`.  Also set `max_iter=100` and `tol=0.01`.  The LASSO solver is much slower, so this make take a minute."
   ]
  },
  {
   "cell_type": "code",
   "execution_count": 11,
   "metadata": {},
   "outputs": [
    {
     "data": {
      "text/plain": [
       "Lasso(alpha=0.001, copy_X=True, fit_intercept=True, max_iter=100,\n",
       "   normalize=False, positive=False, precompute=False, random_state=None,\n",
       "   selection='cyclic', tol=0.01, warm_start=False)"
      ]
     },
     "execution_count": 11,
     "metadata": {},
     "output_type": "execute_result"
    }
   ],
   "source": [
    "# TODO\n",
    "lassoRegr =Lasso(alpha=1e-3,max_iter=100,tol=0.01)\n",
    "lassoRegr.fit(Xtr,Ytr)\n"
   ]
  },
  {
   "cell_type": "markdown",
   "metadata": {},
   "source": [
    "Now, test the model on the test data and measure the `R^2` value.  You should get a much better fit than with the Ridge regression solution.  "
   ]
  },
  {
   "cell_type": "code",
   "execution_count": 12,
   "metadata": {},
   "outputs": [
    {
     "name": "stdout",
     "output_type": "stream",
     "text": [
      "0.6010401894012986 0.07900206299096402\n"
     ]
    }
   ],
   "source": [
    "# TODO\n",
    "Y_train_pred_lasso = lassoRegr.predict(Xtr)\n",
    "Y_test_pred_lasso = lassoRegr.predict(Xts)\n",
    "rsq_tr_lasso = r2_score(Ytr,Y_train_pred_lasso)\n",
    "rsq_ts_lasso = r2_score(Yts,Y_test_pred_lasso)\n",
    "print(rsq_tr,rsq_ts)"
   ]
  },
  {
   "cell_type": "markdown",
   "metadata": {},
   "source": [
    "We can now search for the optimal `alpha`.  Use cross-validation to find the `alpha` logarithically space between `alpha=10^{-3}` and `alpha=10^{-4}`.  Each fit takes some time, so use only 5 values of `alpha`. Also for each `alpha` store the current matrix.  This way, you will not have to re-fit the model."
   ]
  },
  {
   "cell_type": "code",
   "execution_count": 22,
   "metadata": {},
   "outputs": [
    {
     "name": "stdout",
     "output_type": "stream",
     "text": [
      "[0.12930204 0.23897242 0.27445553 0.26364223 0.22053287]\n",
      "0.2744555293281732\n"
     ]
    }
   ],
   "source": [
    "# TODO\n",
    "W =np.zeros((5,22494,85))\n",
    "result_r2_lasso=np.zeros(5)\n",
    "alphas_lasso=np.logspace(-3,-4,5)\n",
    "i=0\n",
    "for a in (alphas_lasso):\n",
    "    regr = Lasso(alpha =a , max_iter =100,tol=0.01)\n",
    "    regr.fit(Xtr,Ytr)\n",
    "    Y_test_pred=regr.predict(Xts)\n",
    "    #print(r2_score(Yts,Y_test_pred))\n",
    "    result_r2_lasso[i] = r2_score(Yts,Y_test_pred)\n",
    "    W[i] = np.transpose(regr.coef_)\n",
    "    i=i+1\n",
    "alpha_opt= result_r2_lasso\n",
    "print(result_r2_lasso)\n",
    "alpha_opt = np.argmax(result_r2_lasso)\n",
    "print(result_r2_lasso[alpha_opt])\n"
   ]
  },
  {
   "cell_type": "markdown",
   "metadata": {},
   "source": [
    "Plot the `r^2` value vs. `alpha`.  Print the optimal `r^2`.  You should see it is much higher than with the best Ridge Regression case."
   ]
  },
  {
   "cell_type": "code",
   "execution_count": 18,
   "metadata": {},
   "outputs": [
    {
     "data": {
      "image/png": "[encoded data removed]",
      "text/plain": [
       "<Figure size 432x288 with 1 Axes>"
      ]
     },
     "metadata": {
      "needs_background": "light"
     },
     "output_type": "display_data"
    }
   ],
   "source": [
    "# TODO\n",
    "plt.plot(np.log10(alphas_lasso),result_r2_lasso)\n",
    "plt.xlabel('log10(alpha)')\n",
    "plt.ylabel('r_2')\n",
    "plt.grid()\n",
    "plt.show()"
   ]
  },
  {
   "cell_type": "markdown",
   "metadata": {},
   "source": [
    "Display the current matrix `W` for the optimal `alpha` as you did in the Ridge Regression case.  You will see that is much sparser."
   ]
  },
  {
   "cell_type": "code",
   "execution_count": 19,
   "metadata": {},
   "outputs": [
    {
     "name": "stdout",
     "output_type": "stream",
     "text": [
      "[[0.00000000e+00 0.00000000e+00 0.00000000e+00 0.00000000e+00\n",
      "  0.00000000e+00 0.00000000e+00 3.59819744e-01 1.31298387e+00\n",
      "  2.28392694e+00 3.15398491e+00 3.87844229e+00 4.46125240e+00\n",
      "  4.93554957e+00 5.33928704e+00 5.75760190e+00 6.10242211e+00\n",
      "  6.40181866e+00 6.52847086e+00 6.45379916e+00 6.19459438e+00\n",
      "  5.76739336e+00 5.54976801e+00 5.24177434e+00 5.34296756e+00\n",
      "  5.26500816e+00 7.62282306e+00 9.78118736e+00 1.14789180e+01\n",
      "  1.26610196e+01 1.32212253e+01 1.40620908e+01 1.45406906e+01\n",
      "  1.48717903e+01 1.48489622e+01 1.44087668e+01 1.43395184e+01\n",
      "  1.51962936e+01 1.58476248e+01 1.63124643e+01 1.69462229e+01\n",
      "  1.73197150e+01 1.69899867e+01 1.62385571e+01 1.53505683e+01\n",
      "  1.43349755e+01 1.31746132e+01 1.19840186e+01 1.07107148e+01\n",
      "  9.41915968e+00 7.99519408e+00 6.39350270e+00 5.19503311e+00\n",
      "  4.18013691e+00 3.43553245e+00 2.85373218e+00 2.22276595e+00\n",
      "  1.52872579e+00 7.01937766e-01 1.46988605e-01 7.29785786e-02\n",
      "  0.00000000e+00 0.00000000e+00 0.00000000e+00 0.00000000e+00\n",
      "  0.00000000e+00 0.00000000e+00 0.00000000e+00 0.00000000e+00\n",
      "  0.00000000e+00 0.00000000e+00 0.00000000e+00 0.00000000e+00\n",
      "  0.00000000e+00 0.00000000e+00 0.00000000e+00 0.00000000e+00\n",
      "  0.00000000e+00 2.49090787e-03 7.66468377e-02 1.00399178e-01\n",
      "  9.00941369e-02 3.80547275e-02 2.07015440e-02 3.72931214e-02\n",
      "  1.57551375e-02]\n",
      " [8.53198499e-02 3.46156267e-01 6.07875530e-01 6.98263421e-01\n",
      "  9.50458984e-02 6.08479080e-01 1.58183627e+00 2.46730638e+00\n",
      "  3.13406404e+00 3.66109863e+00 4.11244712e+00 4.60300196e+00\n",
      "  5.13523941e+00 5.75136993e+00 6.36928922e+00 7.25942791e+00\n",
      "  8.04989051e+00 8.78499028e+00 9.47003901e+00 1.02169092e+01\n",
      "  1.25390029e+01 1.41978292e+01 1.58569113e+01 1.87298723e+01\n",
      "  2.19842943e+01 2.50299155e+01 2.73596046e+01 2.86581080e+01\n",
      "  2.92909015e+01 3.03089548e+01 3.14323515e+01 3.23075829e+01\n",
      "  3.30479539e+01 3.32119616e+01 3.33328126e+01 3.28392313e+01\n",
      "  3.19139994e+01 3.01749983e+01 2.83583344e+01 2.60198498e+01\n",
      "  2.58907696e+01 2.56433247e+01 2.46548573e+01 2.37632312e+01\n",
      "  2.22367274e+01 2.05842924e+01 1.88502437e+01 1.66448989e+01\n",
      "  1.44949004e+01 1.26351374e+01 1.06834939e+01 8.80701209e+00\n",
      "  7.12131669e+00 5.29764075e+00 3.64821052e+00 2.33916616e+00\n",
      "  1.36411393e+00 5.55164681e-01 1.55653024e-01 9.55623751e-01\n",
      "  1.96971655e+00 2.82514965e+00 3.08597447e+00 2.85820571e+00\n",
      "  2.70556110e+00 2.90356047e+00 2.50786435e+00 2.57926056e+00\n",
      "  2.35738998e+00 1.94157746e+00 1.38802444e+00 8.37317951e-01\n",
      "  6.20478564e-02 7.83033091e-01 1.44641172e+00 2.06741598e+00\n",
      "  2.57934065e+00 2.79738075e+00 2.33969454e+00 1.78962312e+00\n",
      "  1.35177724e+00 8.87596788e-01 1.28334948e-01 4.89226937e-01\n",
      "  7.85108092e-01]\n",
      " [6.95933586e+00 7.56019540e+00 7.71358784e+00 5.19341803e+00\n",
      "  1.45981427e+00 2.21867313e+00 3.43883624e+00 3.62406191e+00\n",
      "  3.95214802e+00 4.08386008e+00 4.78874151e+00 6.16480336e+00\n",
      "  7.58499976e+00 8.56398237e+00 9.27510165e+00 1.03024298e+01\n",
      "  1.06049285e+01 1.11586168e+01 1.31010489e+01 1.56854405e+01\n",
      "  1.83783808e+01 2.12866926e+01 2.41022167e+01 2.73805524e+01\n",
      "  3.00114911e+01 3.30290066e+01 3.58885256e+01 3.82328274e+01\n",
      "  3.86431428e+01 3.80194663e+01 3.85970638e+01 3.92410702e+01\n",
      "  3.97139125e+01 3.99244193e+01 3.95364420e+01 3.88288330e+01\n",
      "  3.84529932e+01 3.72116411e+01 3.58979305e+01 3.36282434e+01\n",
      "  3.12209585e+01 2.85632135e+01 2.58006216e+01 2.57504506e+01\n",
      "  2.50017924e+01 2.35404785e+01 2.09815049e+01 1.86935010e+01\n",
      "  1.73863193e+01 1.67358175e+01 1.44453940e+01 1.15582467e+01\n",
      "  9.45932106e+00 7.90207798e+00 6.89125898e+00 6.14935528e+00\n",
      "  5.46441398e+00 3.83635620e+00 2.18104629e+00 1.01012014e+00\n",
      "  6.25776312e-01 1.99922167e-01 1.28723960e+00 2.83249921e+00\n",
      "  3.38300961e+00 3.61024650e+00 4.20785967e+00 3.98766866e+00\n",
      "  3.67485739e+00 3.96183415e+00 4.68766622e+00 5.42972869e+00\n",
      "  4.64858753e+00 2.49650510e+00 5.43201423e-01 1.13851985e+00\n",
      "  2.11829213e+00 3.01195356e+00 3.79988871e+00 3.78453822e+00\n",
      "  4.18614739e+00 3.30562918e+00 2.84081694e+00 2.02788652e+00\n",
      "  1.02880839e+00]\n",
      " [1.08074233e+01 1.17413523e+01 1.02721645e+01 5.88553069e+00\n",
      "  1.63658031e+00 1.98125102e+00 3.80736787e+00 6.16513500e+00\n",
      "  8.01926171e+00 8.80004297e+00 1.00438495e+01 9.85855395e+00\n",
      "  1.00590617e+01 1.02812028e+01 1.12134910e+01 1.27577669e+01\n",
      "  1.38556837e+01 1.58444068e+01 1.85235684e+01 2.22660515e+01\n",
      "  2.53306724e+01 2.96308589e+01 3.14048851e+01 3.40777465e+01\n",
      "  3.62824242e+01 3.77280090e+01 4.08476142e+01 4.29324801e+01\n",
      "  4.33024955e+01 4.38985374e+01 4.46911970e+01 4.53912106e+01\n",
      "  4.55309673e+01 4.59409567e+01 4.56921374e+01 4.44240354e+01\n",
      "  4.39550052e+01 4.27970937e+01 4.12947529e+01 3.86737530e+01\n",
      "  3.72724774e+01 3.45482034e+01 3.18380875e+01 2.86382266e+01\n",
      "  2.56979819e+01 2.42193141e+01 2.28856959e+01 2.03476453e+01\n",
      "  1.89104705e+01 1.84442034e+01 1.79857186e+01 1.63232979e+01\n",
      "  1.46813012e+01 1.25795137e+01 1.03552793e+01 8.94355737e+00\n",
      "  6.07751176e+00 4.73620116e+00 5.07392180e+00 5.92838557e+00\n",
      "  5.84781881e+00 5.05970559e+00 1.84356919e+00 4.84221592e-01\n",
      "  1.80013228e+00 3.22445734e+00 5.03388908e+00 6.59835444e+00\n",
      "  7.11545890e+00 6.46856628e+00 6.35540230e+00 6.47864279e+00\n",
      "  7.25378192e+00 7.92009623e+00 4.75677249e+00 1.09274718e+00\n",
      "  1.44949180e+00 4.90656479e+00 6.33095912e+00 5.02054844e+00\n",
      "  5.24051636e+00 4.67260305e+00 2.62765516e+00 1.33989425e+00\n",
      "  3.55459295e-01]\n",
      " [1.15251468e+01 9.68832400e+00 6.84936104e+00 2.95609047e+00\n",
      "  1.88931348e+00 3.87186697e+00 4.62160385e+00 8.49724713e+00\n",
      "  1.20899630e+01 1.36552822e+01 1.57106878e+01 1.61203212e+01\n",
      "  1.51935955e+01 1.44503129e+01 1.39463052e+01 1.58819588e+01\n",
      "  1.73583216e+01 1.85477308e+01 1.98127746e+01 2.20289435e+01\n",
      "  2.45197236e+01 2.77280649e+01 2.97202161e+01 3.07268339e+01\n",
      "  3.53701444e+01 3.92909276e+01 3.97176188e+01 3.93040298e+01\n",
      "  3.82077666e+01 3.75386793e+01 4.09904208e+01 4.47290774e+01\n",
      "  4.95721022e+01 4.90200675e+01 4.98788765e+01 4.71960901e+01\n",
      "  4.80292686e+01 4.59353922e+01 4.27867674e+01 4.22446607e+01\n",
      "  3.99526586e+01 3.76615665e+01 3.55759145e+01 3.26226709e+01\n",
      "  2.85035450e+01 2.43744697e+01 2.10097382e+01 1.84966961e+01\n",
      "  1.89135237e+01 1.98256775e+01 1.89643269e+01 1.65229613e+01\n",
      "  1.71132894e+01 1.85904028e+01 1.68409637e+01 1.21437786e+01\n",
      "  1.18533312e+01 1.42851988e+01 1.78293033e+01 2.04300578e+01\n",
      "  1.95134694e+01 1.64224725e+01 1.23314172e+01 6.78214627e+00\n",
      "  3.42942968e+00 7.44934050e-02 3.67270777e+00 6.76594508e+00\n",
      "  1.02401872e+01 1.23539218e+01 1.19448213e+01 1.28130103e+01\n",
      "  1.28581450e+01 1.08493111e+01 6.37454338e+00 3.59568519e+00\n",
      "  9.64463731e-01 3.20553804e+00 7.51180491e+00 8.71358555e+00\n",
      "  8.02797730e+00 5.67850475e+00 3.23774819e+00 1.68493872e-01\n",
      "  3.42408477e+00]]\n"
     ]
    }
   ],
   "source": [
    "# TODO\n",
    "\n",
    "\n",
    "Wrms =np.sqrt(np.sum(W,axis=1)**2)\n",
    "print(Wrms)"
   ]
  },
  {
   "cell_type": "markdown",
   "metadata": {},
   "source": [
    "## More fun\n",
    "\n",
    "If you want to more on this lab:\n",
    "* Install the [MNE python package](https://martinos.org/mne/stable/index.html).  This is an amazing package with many tools for processing EEG data.\n",
    "* In particular, you can use the above results to visualize where in the brain the currents sources are.\n",
    "* You can also improve the fitting with more regularization.  For example, we know that the currents will be non-zero in groups:  If the current is non-zero for one time, it is likely to non-zero for all time.  You can use the Group LASSO method.\n",
    "* You can combine these results to make predictions about what the patient is seeing or hearing or thinking."
   ]
  },
  {
   "cell_type": "code",
   "execution_count": null,
   "metadata": {},
   "outputs": [],
   "source": []
  }
 ],
 "metadata": {
  "kernelspec": {
   "display_name": "Python 3",
   "language": "python",
   "name": "python3"
  },
  "language_info": {
   "codemirror_mode": {
    "name": "ipython",
    "version": 3
   },
   "file_extension": ".py",
   "mimetype": "text/x-python",
   "name": "python",
   "nbconvert_exporter": "python",
   "pygments_lexer": "ipython3",
   "version": "3.7.1"
  }
 },
 "nbformat": 4,
 "nbformat_minor": 2
}
